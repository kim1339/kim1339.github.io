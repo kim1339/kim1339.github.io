{
 "cells": [
  {
   "cell_type": "code",
   "execution_count": 2,
   "metadata": {},
   "outputs": [],
   "source": [
    "import sys\n",
    "import numpy as np\n",
    "import cv2\n",
    "import tensorflow as tf\n",
    "from tensorflow import keras"
   ]
  },
  {
   "cell_type": "code",
   "execution_count": 3,
   "metadata": {},
   "outputs": [
    {
     "data": {
      "text/plain": [
       "'2.0.0'"
      ]
     },
     "execution_count": 3,
     "metadata": {},
     "output_type": "execute_result"
    }
   ],
   "source": [
    "tf.__version__"
   ]
  },
  {
   "cell_type": "code",
   "execution_count": 5,
   "metadata": {},
   "outputs": [
    {
     "name": "stdout",
     "output_type": "stream",
     "text": [
      "Last emotion detected: Neutral\n"
     ]
    }
   ],
   "source": [
    "emotion =  ['Anger', 'Disgust', 'Fear', 'Happy', 'Sad', 'Surprise', 'Neutral']\n",
    "\n",
    "model = tf.keras.models.load_model(\"model.h5\")\n",
    "font = cv2.FONT_HERSHEY_SIMPLEX\n",
    "cam = cv2.VideoCapture(0)\n",
    "face_cas = cv2.CascadeClassifier('haarcascade_frontalface_default.xml')\n",
    "\n",
    "while True:\n",
    "    # capture frame-by-frame\n",
    "    ret, frame = cam.read()\n",
    "\n",
    "    if ret == True:\n",
    "        gray = cv2.cvtColor(frame, cv2.COLOR_BGR2GRAY)\n",
    "        faces = face_cas.detectMultiScale(gray, 1.3, 5)\n",
    "\n",
    "    \n",
    "        for (x, y, w, h) in faces:\n",
    "            face_component = gray[y:y+h, x:x+w]\n",
    "            # reshape into 48x48 pixel image input for model\n",
    "            fc = cv2.resize(face_component, (48, 48))\n",
    "            inpt = np.reshape(fc, (1, 48, 48, 1)).astype(np.float32)\n",
    "            inpt = inpt/255.\n",
    "            prediction = model.predict_proba(inpt)\n",
    "            em = emotion[np.argmax(prediction)]\n",
    "            score = np.max(prediction)\n",
    "            if score > 0.50:\n",
    "                cv2.putText(frame, em +\"  \"+ str(round(score*100, 1)) +'%', (x, y), font, 1, (0, 255, 0), 2)\n",
    "            cv2.rectangle(frame, (x, y), (x+w, y+h), (255, 0, 0), 2)\n",
    "        cv2.imshow(\"image\", frame)\n",
    "        \n",
    "        # exit the script if 'q' key is pressed\n",
    "        if cv2.waitKey(1) & 0xFF == ord('q'):\n",
    "            final_em = em\n",
    "            print(\"Last emotion detected: \" + em)\n",
    "            break\n",
    "            \n",
    "    else:\n",
    "        print ('Error')\n",
    "\n",
    "cam.release()\n",
    "\n",
    "cv2.destroyAllWindows()"
   ]
  },
  {
   "cell_type": "code",
   "execution_count": null,
   "metadata": {},
   "outputs": [],
   "source": []
  }
 ],
 "metadata": {
  "kernelspec": {
   "display_name": "Python 3",
   "language": "python",
   "name": "python3"
  },
  "language_info": {
   "codemirror_mode": {
    "name": "ipython",
    "version": 3
   },
   "file_extension": ".py",
   "mimetype": "text/x-python",
   "name": "python",
   "nbconvert_exporter": "python",
   "pygments_lexer": "ipython3",
   "version": "3.7.7"
  }
 },
 "nbformat": 4,
 "nbformat_minor": 2
}
